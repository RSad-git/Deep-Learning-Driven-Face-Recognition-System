{
 "cells": [
  {
   "cell_type": "code",
   "execution_count": 1,
   "id": "71e1d879",
   "metadata": {},
   "outputs": [],
   "source": [
    "import numpy as np\n",
    "import matplotlib.pyplot as plt\n",
    "import os\n",
    "import cv2\n",
    "import random"
   ]
  },
  {
   "cell_type": "code",
   "execution_count": 2,
   "id": "77c83495",
   "metadata": {},
   "outputs": [],
   "source": [
    "datadir=\"C:/Users/dfury/OneDrive/Documents/assignments/Spring22/AI/TermPaper/archive\"\n",
    "categories=['Elon Musk','Bill Gates', 'Not Recognized','Johnny Depp']"
   ]
  },
  {
   "cell_type": "code",
   "execution_count": 3,
   "id": "5f77e437",
   "metadata": {},
   "outputs": [],
   "source": [
    "training_data=[]\n",
    "def data():\n",
    "    for c in categories:\n",
    "        path=os.path.join(datadir, c)\n",
    "        classification=categories.index(c)\n",
    "        for img in os.listdir(path):\n",
    "            img_array= cv2.imread(os.path.join(path,img))\n",
    "            data=cv2.resize(img_array,(128,128))\n",
    "            training_data.append([data,classification])\n",
    "         "
   ]
  },
  {
   "cell_type": "code",
   "execution_count": 4,
   "id": "3708c76c",
   "metadata": {},
   "outputs": [],
   "source": [
    "data()"
   ]
  },
  {
   "cell_type": "code",
   "execution_count": 6,
   "id": "ae7ece5f",
   "metadata": {},
   "outputs": [
    {
     "name": "stdout",
     "output_type": "stream",
     "text": [
      "536\n"
     ]
    }
   ],
   "source": [
    "print(len(training_data))\n",
    "random.shuffle(training_data)"
   ]
  },
  {
   "cell_type": "code",
   "execution_count": 7,
   "id": "6fc95dc7",
   "metadata": {},
   "outputs": [],
   "source": [
    "X=[]\n",
    "Y=[]\n",
    "for x,y in training_data:\n",
    "    X.append(x)\n",
    "    Y.append(y)\n",
    "X=np.array(X).reshape(-1,128,128,3)\n",
    "Y=np.array(Y)"
   ]
  },
  {
   "cell_type": "code",
   "execution_count": 8,
   "id": "332ee6e7",
   "metadata": {},
   "outputs": [],
   "source": [
    "import tensorflow as tf\n",
    "from tensorflow.keras.models import Sequential\n",
    "from tensorflow.keras.layers import Dense, Dropout, Activation, Flatten, Conv2D, MaxPooling2D\n",
    "from tensorflow.keras.initializers import HeNormal"
   ]
  },
  {
   "cell_type": "code",
   "execution_count": 9,
   "id": "673d2887",
   "metadata": {},
   "outputs": [],
   "source": [
    "X=X/255."
   ]
  },
  {
   "cell_type": "markdown",
   "id": "295f4f01",
   "metadata": {},
   "source": [
    "# DCNN"
   ]
  },
  {
   "cell_type": "code",
   "execution_count": 10,
   "id": "bc5b5a4f",
   "metadata": {},
   "outputs": [
    {
     "name": "stdout",
     "output_type": "stream",
     "text": [
      "Epoch 1/15\n",
      "27/27 [==============================] - 5s 170ms/step - loss: 9.0060 - accuracy: 0.3808 - val_loss: 1.2159 - val_accuracy: 0.4815\n",
      "Epoch 2/15\n",
      "27/27 [==============================] - 5s 167ms/step - loss: 0.7352 - accuracy: 0.7710 - val_loss: 1.1316 - val_accuracy: 0.6759\n",
      "Epoch 3/15\n",
      "27/27 [==============================] - 4s 159ms/step - loss: 0.2863 - accuracy: 0.9112 - val_loss: 1.2256 - val_accuracy: 0.6852\n",
      "Epoch 4/15\n",
      "27/27 [==============================] - 5s 171ms/step - loss: 0.1206 - accuracy: 0.9650 - val_loss: 1.1866 - val_accuracy: 0.7315\n",
      "Epoch 5/15\n",
      "20/27 [=====================>........] - ETA: 1s - loss: 0.0325 - accuracy: 0.9937"
     ]
    }
   ],
   "source": [
    "model=Sequential()\n",
    "model.add(Conv2D(64, (5,5), kernel_initializer=HeNormal(), input_shape=(128,128,3)))\n",
    "model.add(Activation(\"relu\"))\n",
    "model.add(MaxPooling2D((2,2)))\n",
    "\n",
    "model.add(Conv2D(64, (3,3), kernel_initializer=HeNormal()))\n",
    "model.add(Activation(\"relu\"))\n",
    "model.add(MaxPooling2D((2,2)))\n",
    "\n",
    "\n",
    "model.add(Flatten())\n",
    "\n",
    "model.add(Dense(64))\n",
    "\n",
    "\n",
    "model.add(Dense(4, activation='softmax'))\n",
    "\n",
    "model.compile(loss=\"sparse_categorical_crossentropy\",\n",
    "             optimizer=\"adam\",\n",
    "             metrics=['accuracy'])\n",
    "history=model.fit(X,Y, batch_size=16,epochs=15, validation_split=0.2)\n",
    "\n",
    "print(history.history.keys())"
   ]
  },
  {
   "cell_type": "code",
   "execution_count": 10,
   "id": "89cacc52",
   "metadata": {},
   "outputs": [
    {
     "data": {
      "image/png": "[encoded data removed]",
      "text/plain": [
       "<Figure size 432x288 with 1 Axes>"
      ]
     },
     "metadata": {
      "needs_background": "light"
     },
     "output_type": "display_data"
    },
    {
     "name": "stdout",
     "output_type": "stream",
     "text": [
      "0.8425925970077515\n"
     ]
    }
   ],
   "source": [
    "plt.plot(history.history['accuracy'])\n",
    "plt.plot(history.history['val_accuracy'])\n",
    "plt.title('model accuracy for DCNN')\n",
    "plt.ylim([0,1.1])\n",
    "plt.ylabel('accuracy')\n",
    "plt.xlabel('epoch')\n",
    "plt.legend(['train', 'test'], loc='upper left')\n",
    "plt.show()\n",
    "print(max(history.history['val_accuracy']))"
   ]
  },
  {
   "cell_type": "code",
   "execution_count": 15,
   "id": "2be7d431",
   "metadata": {},
   "outputs": [
    {
     "name": "stdout",
     "output_type": "stream",
     "text": [
      "Model: \"sequential\"\n",
      "_________________________________________________________________\n",
      " Layer (type)                Output Shape              Param #   \n",
      "=================================================================\n",
      " conv2d (Conv2D)             (None, 124, 124, 64)      4864      \n",
      "                                                                 \n",
      " activation (Activation)     (None, 124, 124, 64)      0         \n",
      "                                                                 \n",
      " max_pooling2d (MaxPooling2D  (None, 62, 62, 64)       0         \n",
      " )                                                               \n",
      "                                                                 \n",
      " conv2d_1 (Conv2D)           (None, 60, 60, 64)        36928     \n",
      "                                                                 \n",
      " activation_1 (Activation)   (None, 60, 60, 64)        0         \n",
      "                                                                 \n",
      " max_pooling2d_1 (MaxPooling  (None, 30, 30, 64)       0         \n",
      " 2D)                                                             \n",
      "                                                                 \n",
      " flatten (Flatten)           (None, 57600)             0         \n",
      "                                                                 \n",
      " dense (Dense)               (None, 64)                3686464   \n",
      "                                                                 \n",
      " dense_1 (Dense)             (None, 4)                 260       \n",
      "                                                                 \n",
      "=================================================================\n",
      "Total params: 3,728,516\n",
      "Trainable params: 3,728,516\n",
      "Non-trainable params: 0\n",
      "_________________________________________________________________\n"
     ]
    }
   ],
   "source": [
    "model.summary()"
   ]
  },
  {
   "cell_type": "markdown",
   "id": "ce82b078",
   "metadata": {},
   "source": [
    "# MLP"
   ]
  },
  {
   "cell_type": "code",
   "execution_count": 12,
   "id": "2bb418cc",
   "metadata": {},
   "outputs": [
    {
     "name": "stdout",
     "output_type": "stream",
     "text": [
      "Epoch 1/20\n",
      "27/27 [==============================] - 1s 24ms/step - loss: 35.6415 - accuracy: 0.4299 - val_loss: 20.2634 - val_accuracy: 0.3426\n",
      "Epoch 2/20\n",
      "27/27 [==============================] - 0s 18ms/step - loss: 8.0317 - accuracy: 0.5818 - val_loss: 7.6810 - val_accuracy: 0.5093\n",
      "Epoch 3/20\n",
      "27/27 [==============================] - 1s 23ms/step - loss: 4.7798 - accuracy: 0.6215 - val_loss: 7.2616 - val_accuracy: 0.4630\n",
      "Epoch 4/20\n",
      "27/27 [==============================] - 1s 19ms/step - loss: 2.9430 - accuracy: 0.7243 - val_loss: 4.4125 - val_accuracy: 0.5463\n",
      "Epoch 5/20\n",
      "27/27 [==============================] - 1s 19ms/step - loss: 1.4519 - accuracy: 0.7967 - val_loss: 3.9101 - val_accuracy: 0.5463\n",
      "Epoch 6/20\n",
      "27/27 [==============================] - 0s 18ms/step - loss: 1.4133 - accuracy: 0.7523 - val_loss: 3.0850 - val_accuracy: 0.5000\n",
      "Epoch 7/20\n",
      "27/27 [==============================] - 1s 22ms/step - loss: 0.4318 - accuracy: 0.8598 - val_loss: 2.2233 - val_accuracy: 0.5926\n",
      "Epoch 8/20\n",
      "27/27 [==============================] - 1s 21ms/step - loss: 0.4559 - accuracy: 0.8598 - val_loss: 2.1621 - val_accuracy: 0.6204\n",
      "Epoch 9/20\n",
      "27/27 [==============================] - 1s 21ms/step - loss: 0.3645 - accuracy: 0.8738 - val_loss: 2.3657 - val_accuracy: 0.6204\n",
      "Epoch 10/20\n",
      "27/27 [==============================] - 1s 25ms/step - loss: 0.1902 - accuracy: 0.9322 - val_loss: 1.9619 - val_accuracy: 0.6574\n",
      "Epoch 11/20\n",
      "27/27 [==============================] - 1s 19ms/step - loss: 0.0905 - accuracy: 0.9696 - val_loss: 1.6722 - val_accuracy: 0.6389\n",
      "Epoch 12/20\n",
      "27/27 [==============================] - 1s 19ms/step - loss: 0.0935 - accuracy: 0.9626 - val_loss: 1.8127 - val_accuracy: 0.6944\n",
      "Epoch 13/20\n",
      "27/27 [==============================] - 1s 19ms/step - loss: 0.0811 - accuracy: 0.9743 - val_loss: 2.1104 - val_accuracy: 0.6296\n",
      "Epoch 14/20\n",
      "27/27 [==============================] - 1s 20ms/step - loss: 0.0505 - accuracy: 0.9907 - val_loss: 1.6316 - val_accuracy: 0.6944\n",
      "Epoch 15/20\n",
      "27/27 [==============================] - 1s 23ms/step - loss: 0.0364 - accuracy: 0.9953 - val_loss: 1.7272 - val_accuracy: 0.6944\n",
      "Epoch 16/20\n",
      "27/27 [==============================] - 1s 32ms/step - loss: 0.0269 - accuracy: 0.9977 - val_loss: 1.7457 - val_accuracy: 0.6944\n",
      "Epoch 17/20\n",
      "27/27 [==============================] - 0s 18ms/step - loss: 0.0172 - accuracy: 1.0000 - val_loss: 1.7901 - val_accuracy: 0.7037\n",
      "Epoch 18/20\n",
      "27/27 [==============================] - 1s 23ms/step - loss: 0.0133 - accuracy: 1.0000 - val_loss: 1.8176 - val_accuracy: 0.7037\n",
      "Epoch 19/20\n",
      "27/27 [==============================] - 1s 19ms/step - loss: 0.0122 - accuracy: 1.0000 - val_loss: 1.8202 - val_accuracy: 0.7037\n",
      "Epoch 20/20\n",
      "27/27 [==============================] - 0s 19ms/step - loss: 0.0114 - accuracy: 1.0000 - val_loss: 1.9144 - val_accuracy: 0.7222\n",
      "dict_keys(['loss', 'accuracy', 'val_loss', 'val_accuracy'])\n"
     ]
    }
   ],
   "source": [
    "model2=Sequential()\n",
    "model2.add(Flatten())\n",
    "model2.add(Dense(128))\n",
    "model2.add(Dense(64))\n",
    "model2.add(Dense(4,activation='softmax'))\n",
    "\n",
    "\n",
    "model2.compile(loss=\"sparse_categorical_crossentropy\",\n",
    "             optimizer=\"adam\",\n",
    "             metrics=['accuracy'])\n",
    "history2=model2.fit(X,Y, batch_size=16,epochs=20, validation_split=0.2)\n",
    "\n",
    "print(history2.history.keys())"
   ]
  },
  {
   "cell_type": "code",
   "execution_count": 14,
   "id": "6cba884a",
   "metadata": {},
   "outputs": [
    {
     "data": {
      "image/png": "[encoded data removed]",
      "text/plain": [
       "<Figure size 432x288 with 1 Axes>"
      ]
     },
     "metadata": {
      "needs_background": "light"
     },
     "output_type": "display_data"
    },
    {
     "name": "stdout",
     "output_type": "stream",
     "text": [
      "0.7222222089767456\n"
     ]
    }
   ],
   "source": [
    "plt.plot(history2.history['accuracy'])\n",
    "plt.plot(history2.history['val_accuracy'])\n",
    "plt.title('model accuracy for MLP')\n",
    "plt.ylim([0,1.1])\n",
    "plt.ylabel('accuracy')\n",
    "plt.xlabel('epoch')\n",
    "plt.legend(['train', 'test'], loc='upper left')\n",
    "plt.show()\n",
    "print(max(history2.history['val_accuracy']))"
   ]
  },
  {
   "cell_type": "code",
   "execution_count": null,
   "id": "bf502940",
   "metadata": {},
   "outputs": [],
   "source": []
  }
 ],
 "metadata": {
  "kernelspec": {
   "display_name": "Python 3.8.8 ('base')",
   "language": "python",
   "name": "python3"
  },
  "language_info": {
   "codemirror_mode": {
    "name": "ipython",
    "version": 3
   },
   "file_extension": ".py",
   "mimetype": "text/x-python",
   "name": "python",
   "nbconvert_exporter": "python",
   "pygments_lexer": "ipython3",
   "version": "3.8.8"
  },
  "vscode": {
   "interpreter": {
    "hash": "3c796c0fd4b53fdd8f4ff2e5edfd56e0bcd71b7157f18d7008380c51669ffdfa"
   }
  }
 },
 "nbformat": 4,
 "nbformat_minor": 5
}
